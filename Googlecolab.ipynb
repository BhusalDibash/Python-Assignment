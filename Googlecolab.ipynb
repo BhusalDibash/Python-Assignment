{
  "nbformat": 4,
  "nbformat_minor": 0,
  "metadata": {
    "colab": {
      "provenance": [],
      "authorship_tag": "ABX9TyPQtQJOQc46Nw+ct5RfZfUy",
      "include_colab_link": true
    },
    "kernelspec": {
      "name": "python3",
      "display_name": "Python 3"
    },
    "language_info": {
      "name": "python"
    }
  },
  "cells": [
    {
      "cell_type": "markdown",
      "metadata": {
        "id": "view-in-github",
        "colab_type": "text"
      },
      "source": [
        "<a href=\"https://colab.research.google.com/github/BhusalDibash/Python-Assignment/blob/main/Googlecolab.ipynb\" target=\"_parent\"><img src=\"https://colab.research.google.com/assets/colab-badge.svg\" alt=\"Open In Colab\"/></a>"
      ]
    },
    {
      "cell_type": "code",
      "execution_count": null,
      "metadata": {
        "colab": {
          "base_uri": "https://localhost:8080/"
        },
        "id": "9rvi0-R51Gyz",
        "outputId": "719bada6-df7e-4340-81c5-a6705e4fe241"
      },
      "outputs": [
        {
          "output_type": "stream",
          "name": "stdout",
          "text": [
            "The root is approximately: 0.6191\n"
          ]
        }
      ],
      "source": [
        "import math\n",
        "# Define the function f(x)= e**x-3x\n",
        "#Intervals (0, 1)\n",
        "\n",
        "def d(x):n\n",
        "    return math.exp(x) - 3 * x\n",
        "\n",
        "# Define the bisection method function\n",
        "def bisection_method(a, b, tol):\n",
        "    # Check if the initial interval is valid\n",
        "    if d(a) * d(b) >= 0:\n",
        "        print(\"No root exists within the given interval\")\n",
        "        return None\n",
        "\n",
        "    c = a  # midpoint initialize gareko\n",
        "\n",
        "    # Iterate until the interval width is less than the tolerance\n",
        "    while (b - a) / 2.0 > tol:\n",
        "        c = (a + b) / 2.0\n",
        "        if d(c) == 0:  # If the midpoint is a root, break the loop\n",
        "            break\n",
        "        elif d(a) * d(c) < 0:  #  root left subinterval ma xa bhane\n",
        "            b = c\n",
        "        else:  # root right subinterval ma xa bhane\n",
        "            a = c\n",
        "\n",
        "    return c  # Return the approximate root\n",
        "\n",
        "# Define the interval [0, 1] and the tolerance 0.001\n",
        "a = 0\n",
        "b = 1\n",
        "tol = 0.001\n",
        "\n",
        "# Call the bisection method and store the result\n",
        "root = bisection_method(a, b, tol)\n",
        "\n",
        "# Print the result if a root was found\n",
        "if root is not None:\n",
        "    print(f\"The root is approximately: {root:.4f}\")"
      ]
    },
    {
      "cell_type": "code",
      "source": [
        "import numpy as np\n",
        "\n",
        "# Define the system of equations in matrix form: Ax = b\n",
        "A = np.array([[1, 2, 3],\n",
        "              [6, -4, 5],\n",
        "              [5, 2, 2]])\n",
        "\n",
        "b = np.array([4, 10, 2])\n",
        "\n",
        "# Initial guess for x, y, z\n",
        "x = np.array([0.0, 0.0, 0.0])\n",
        "\n",
        "# Tolerance for convergence\n",
        "tolerance = 1e-6\n",
        "\n",
        "# Maximum number of iterations\n",
        "max_iterations = 100\n",
        "\n",
        "# Gauss-Seidel iteration\n",
        "for iteration in range(max_iterations):\n",
        "    x_old = x.copy()  # Save the old values\n",
        "\n",
        "    # Update x, y, z using the Gauss-Seidel formula\n",
        "    x[0] = (b[0] - A[0, 1] * x[1] - A[0, 2] * x[2]) / A[0, 0]\n",
        "    x[1] = (b[1] - A[1, 0] * x[0] - A[1, 2] * x[2]) / A[1, 1]\n",
        "    x[2] = (b[2] - A[2, 0] * x[0] - A[2, 1] * x[1]) / A[2, 2]\n",
        "\n",
        "    # Check for convergence\n",
        "    if np.linalg.norm(x - x_old) < tolerance:\n",
        "        print(f\"Converged after {iteration + 1} iterations.\")\n",
        "        break\n",
        "\n",
        "# Output the solution\n",
        "print(\"Solution:\")\n",
        "print(f\"x = {x[0]}\")\n",
        "print(f\"y = {x[1]}\")\n",
        "print(f\"z = {x[2]}\")"
      ],
      "metadata": {
        "id": "UqVXSl5g2CjX",
        "colab": {
          "base_uri": "https://localhost:8080/"
        },
        "outputId": "578e65b4-3117-4448-8362-9bdd4e251ffd"
      },
      "execution_count": null,
      "outputs": [
        {
          "output_type": "stream",
          "name": "stdout",
          "text": [
            "Solution:\n",
            "x = 3.581338808185453e+92\n",
            "y = 3.532871427073024e+92\n",
            "z = -1.2486218447536656e+93\n"
          ]
        }
      ]
    }
  ]
}